{
 "cells": [
  {
   "cell_type": "markdown",
   "metadata": {},
   "source": [
    "# Sales Data Analysis\n",
    "## Descriptive Statistics\n",
    "<span>© Copyright Notice 2025, Sales Data Analysis - All Rights Reserved.</span>\n"
   ]
  },
  {
   "cell_type": "markdown",
   "metadata": {},
   "source": [
    "### Introduction\n",
    "In this notebook, we will explore descriptive statistics using the `sales_data.csv` dataset. We will cover:\n",
    "- Loading the dataset\n",
    "- Measures of Central Tendency: Mean, Median, Mode\n",
    "- Dispersion Metrics: Variance, Standard Deviation\n",
    "- Visualizations: Bar charts, Histograms, Box plots\n"
   ]
  },
  {
   "cell_type": "code",
   "execution_count": null,
   "metadata": {},
   "outputs": [],
   "source": [
    "import numpy as np  # Import the numpy library for numerical operations\n",
    "import pandas as pd  # Import the pandas library for data manipulation and analysis\n",
    "import matplotlib.pyplot as plt  # Import the matplotlib library for data visualization\n",
    "\n",
    "# Load the dataset\n",
    "data = pd.read_csv('../data/sales_data.csv')  # Read the dataset into a pandas DataFrame\n",
    "data.head()  # Show the first 5 rows of the dataset to get an overview"
   ]
  },
  {
   "cell_type": "markdown",
   "metadata": {},
   "source": [
    "### Measures of Central Tendency\n",
    "We will calculate the mean, median, and mode for the `SALES` column."
   ]
  },
  {
   "cell_type": "code",
   "execution_count": null,
   "metadata": {},
   "outputs": [],
   "source": [
    "# Calculate mean, median, and mode for the SALES column\n",
    "mean_sales = data['SALES'].mean()\n",
    "median_sales = data['SALES'].median()\n",
    "mode_sales = data['SALES'].mode()[0]  # [0] is used to extract the first element from the result of the mode() function\n",
    "\n",
    "mean_sales, median_sales, mode_sales"
   ]
  },
  {
   "cell_type": "markdown",
   "metadata": {},
   "source": [
    "### Dispersion Metrics\n",
    "Next, we will calculate the variance and standard deviation for the `SALES` column."
   ]
  },
  {
   "cell_type": "code",
   "execution_count": null,
   "metadata": {},
   "outputs": [],
   "source": [
    "# Variance and Standard Deviation\n",
    "variance_sales = data['SALES'].var()  # Calculate the variance of the SALES column\n",
    "std_dev_sales = data['SALES'].std()  # Calculate the standard deviation of the SALES column\n",
    "\n",
    "variance_sales, std_dev_sales"
   ]
  },
  {
   "cell_type": "markdown",
   "metadata": {},
   "source": [
    "### Visualizations\n",
    "We will create visualizations to better understand the distribution of sales data."
   ]
  },
  {
   "cell_type": "code",
   "execution_count": null,
   "metadata": {},
   "outputs": [],
   "source": [
    "# Bar chart for the frequency of sales\n",
    "data['SALES'].plot(kind='bar', title='Sales Frequency')\n",
    "plt.xlabel('Sales')\n",
    "plt.ylabel('Frequency')\n",
    "plt.show()  # Display the bar chart\n",
    "\n",
    "# Histogram for the distribution of sales\n",
    "data['SALES'].hist(bins=30, edgecolor='black')\n",
    "plt.title('Distribution of Sales')\n",
    "plt.xlabel('Sales')\n",
    "plt.ylabel('Frequency')\n",
    "plt.show()  # Display the histogram\n",
    "\n",
    "# Boxplot for sales data\n",
    "plt.boxplot(data['SALES'].dropna())  # Create a boxplot, dropping any NaN values\n",
    "plt.title('Boxplot of Sales')\n",
    "plt.ylabel('Sales')\n",
    "plt.show()  # Display the boxplot"
   ]
  }
 ],
 "metadata": {
  "kernelspec": {
   "display_name": "Python 3",
   "language": "python",
   "name": "python3"
  },
  "language_info": {
   "codemirror_mode": {
    "name": "ipython",
    "version": 3
   },
   "file_extension": ".py",
   "mimetype": "text/x-python",
   "name": "python",
   "nbconvert_exporter": "python",
   "pygments_lexer": "ipython3",
   "version": "3.8.5"
  }
 },
 "nbformat": 4,
 "nbformat_minor": 4
}