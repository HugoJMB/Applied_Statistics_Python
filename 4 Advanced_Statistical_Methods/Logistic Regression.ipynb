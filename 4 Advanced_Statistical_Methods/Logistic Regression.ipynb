{
 "cells": [
  {
   "cell_type": "markdown",
   "metadata": {},
   "source": [
    "# Khipus.ai\n",
    "## Applied Statistics with Python\n",
    "### Advanced Statistical Methods with Python: Non-linear Models: Logistic Regression\n",
    "<span>© Copyright Notice 2025, Khipus.ai - All Rights Reserved.</span> "
   ]
  },
  {
   "cell_type": "markdown",
   "metadata": {},
   "source": [
    "Source: [Udemy, n.d.] Udemy. The Data Science Course 2023: Complete Data Science Bootcamp [Online Course]. Lecture 10777126"
   ]
  },
  {
   "cell_type": "markdown",
   "metadata": {},
   "source": [
    "# Building a Logistic Regression"
   ]
  },
  {
   "cell_type": "markdown",
   "metadata": {},
   "source": [
    "## Import the relevant libraries"
   ]
  },
  {
   "cell_type": "code",
   "execution_count": 2,
   "metadata": {},
   "outputs": [],
   "source": [
    "import pandas as pd\n",
    "import statsmodels.api as sm\n",
    "import matplotlib.pyplot as plt\n",
    "import seaborn as sns\n",
    "sns.set_theme()\n",
    "\n",
    "# this part not be needed after the latests updates of the library\n",
    "from scipy import stats\n",
    "stats.chisqprob = lambda chisq, df: stats.chi2.sf(chisq, df)"
   ]
  },
  {
   "cell_type": "markdown",
   "metadata": {},
   "source": [
    "## Load the data"
   ]
  },
  {
   "cell_type": "markdown",
   "metadata": {},
   "source": [
    "Load the ‘Example_bank_data.csv’ dataset."
   ]
  },
  {
   "cell_type": "code",
   "execution_count": 3,
   "metadata": {
    "scrolled": true
   },
   "outputs": [
    {
     "data": {
      "application/vnd.microsoft.datawrangler.viewer.v0+json": {
       "columns": [
        {
         "name": "index",
         "rawType": "int64",
         "type": "integer"
        },
        {
         "name": "SAT",
         "rawType": "int64",
         "type": "integer"
        },
        {
         "name": "Admitted",
         "rawType": "object",
         "type": "string"
        }
       ],
       "conversionMethod": "pd.DataFrame",
       "ref": "da6895dd-a773-4972-8eed-1eafb27b611f",
       "rows": [
        [
         "0",
         "1363",
         "No"
        ],
        [
         "1",
         "1792",
         "Yes"
        ],
        [
         "2",
         "1954",
         "Yes"
        ],
        [
         "3",
         "1653",
         "No"
        ],
        [
         "4",
         "1593",
         "No"
        ],
        [
         "5",
         "1755",
         "Yes"
        ],
        [
         "6",
         "1775",
         "Yes"
        ],
        [
         "7",
         "1887",
         "Yes"
        ],
        [
         "8",
         "1893",
         "Yes"
        ],
        [
         "9",
         "1580",
         "No"
        ],
        [
         "10",
         "1857",
         "Yes"
        ],
        [
         "11",
         "1880",
         "Yes"
        ],
        [
         "12",
         "1664",
         "Yes"
        ],
        [
         "13",
         "1364",
         "No"
        ],
        [
         "14",
         "1693",
         "No"
        ],
        [
         "15",
         "1850",
         "Yes"
        ],
        [
         "16",
         "1633",
         "No"
        ],
        [
         "17",
         "1634",
         "No"
        ],
        [
         "18",
         "1636",
         "Yes"
        ],
        [
         "19",
         "1855",
         "Yes"
        ],
        [
         "20",
         "1987",
         "Yes"
        ],
        [
         "21",
         "1997",
         "Yes"
        ],
        [
         "22",
         "1422",
         "No"
        ],
        [
         "23",
         "1508",
         "No"
        ],
        [
         "24",
         "1720",
         "Yes"
        ],
        [
         "25",
         "1879",
         "Yes"
        ],
        [
         "26",
         "1634",
         "Yes"
        ],
        [
         "27",
         "1802",
         "Yes"
        ],
        [
         "28",
         "1849",
         "Yes"
        ],
        [
         "29",
         "1764",
         "Yes"
        ],
        [
         "30",
         "1460",
         "No"
        ],
        [
         "31",
         "1675",
         "Yes"
        ],
        [
         "32",
         "1656",
         "No"
        ],
        [
         "33",
         "2020",
         "Yes"
        ],
        [
         "34",
         "1850",
         "Yes"
        ],
        [
         "35",
         "1865",
         "Yes"
        ],
        [
         "36",
         "1664",
         "No"
        ],
        [
         "37",
         "1872",
         "Yes"
        ],
        [
         "38",
         "1654",
         "No"
        ],
        [
         "39",
         "1393",
         "No"
        ],
        [
         "40",
         "1587",
         "No"
        ],
        [
         "41",
         "1631",
         "Yes"
        ],
        [
         "42",
         "1931",
         "Yes"
        ],
        [
         "43",
         "1370",
         "No"
        ],
        [
         "44",
         "1810",
         "Yes"
        ],
        [
         "45",
         "1414",
         "No"
        ],
        [
         "46",
         "1761",
         "Yes"
        ],
        [
         "47",
         "1477",
         "No"
        ],
        [
         "48",
         "1486",
         "No"
        ],
        [
         "49",
         "1561",
         "No"
        ]
       ],
       "shape": {
        "columns": 2,
        "rows": 168
       }
      },
      "text/html": [
       "<div>\n",
       "<style scoped>\n",
       "    .dataframe tbody tr th:only-of-type {\n",
       "        vertical-align: middle;\n",
       "    }\n",
       "\n",
       "    .dataframe tbody tr th {\n",
       "        vertical-align: top;\n",
       "    }\n",
       "\n",
       "    .dataframe thead th {\n",
       "        text-align: right;\n",
       "    }\n",
       "</style>\n",
       "<table border=\"1\" class=\"dataframe\">\n",
       "  <thead>\n",
       "    <tr style=\"text-align: right;\">\n",
       "      <th></th>\n",
       "      <th>SAT</th>\n",
       "      <th>Admitted</th>\n",
       "    </tr>\n",
       "  </thead>\n",
       "  <tbody>\n",
       "    <tr>\n",
       "      <th>0</th>\n",
       "      <td>1363</td>\n",
       "      <td>No</td>\n",
       "    </tr>\n",
       "    <tr>\n",
       "      <th>1</th>\n",
       "      <td>1792</td>\n",
       "      <td>Yes</td>\n",
       "    </tr>\n",
       "    <tr>\n",
       "      <th>2</th>\n",
       "      <td>1954</td>\n",
       "      <td>Yes</td>\n",
       "    </tr>\n",
       "    <tr>\n",
       "      <th>3</th>\n",
       "      <td>1653</td>\n",
       "      <td>No</td>\n",
       "    </tr>\n",
       "    <tr>\n",
       "      <th>4</th>\n",
       "      <td>1593</td>\n",
       "      <td>No</td>\n",
       "    </tr>\n",
       "    <tr>\n",
       "      <th>...</th>\n",
       "      <td>...</td>\n",
       "      <td>...</td>\n",
       "    </tr>\n",
       "    <tr>\n",
       "      <th>163</th>\n",
       "      <td>1722</td>\n",
       "      <td>Yes</td>\n",
       "    </tr>\n",
       "    <tr>\n",
       "      <th>164</th>\n",
       "      <td>1750</td>\n",
       "      <td>Yes</td>\n",
       "    </tr>\n",
       "    <tr>\n",
       "      <th>165</th>\n",
       "      <td>1555</td>\n",
       "      <td>No</td>\n",
       "    </tr>\n",
       "    <tr>\n",
       "      <th>166</th>\n",
       "      <td>1524</td>\n",
       "      <td>No</td>\n",
       "    </tr>\n",
       "    <tr>\n",
       "      <th>167</th>\n",
       "      <td>1461</td>\n",
       "      <td>No</td>\n",
       "    </tr>\n",
       "  </tbody>\n",
       "</table>\n",
       "<p>168 rows × 2 columns</p>\n",
       "</div>"
      ],
      "text/plain": [
       "      SAT Admitted\n",
       "0    1363       No\n",
       "1    1792      Yes\n",
       "2    1954      Yes\n",
       "3    1653       No\n",
       "4    1593       No\n",
       "..    ...      ...\n",
       "163  1722      Yes\n",
       "164  1750      Yes\n",
       "165  1555       No\n",
       "166  1524       No\n",
       "167  1461       No\n",
       "\n",
       "[168 rows x 2 columns]"
      ]
     },
     "execution_count": 3,
     "metadata": {},
     "output_type": "execute_result"
    }
   ],
   "source": [
    "raw_data = pd.read_csv('Admittance.csv')\n",
    "raw_data"
   ]
  },
  {
   "cell_type": "code",
   "execution_count": 4,
   "metadata": {
    "scrolled": true
   },
   "outputs": [
    {
     "data": {
      "application/vnd.microsoft.datawrangler.viewer.v0+json": {
       "columns": [
        {
         "name": "index",
         "rawType": "int64",
         "type": "integer"
        },
        {
         "name": "SAT",
         "rawType": "int64",
         "type": "integer"
        },
        {
         "name": "Admitted",
         "rawType": "int64",
         "type": "integer"
        }
       ],
       "conversionMethod": "pd.DataFrame",
       "ref": "c288a77c-3aec-423a-b1d8-4d836d877e7f",
       "rows": [
        [
         "0",
         "1363",
         "0"
        ],
        [
         "1",
         "1792",
         "1"
        ],
        [
         "2",
         "1954",
         "1"
        ],
        [
         "3",
         "1653",
         "0"
        ],
        [
         "4",
         "1593",
         "0"
        ],
        [
         "5",
         "1755",
         "1"
        ],
        [
         "6",
         "1775",
         "1"
        ],
        [
         "7",
         "1887",
         "1"
        ],
        [
         "8",
         "1893",
         "1"
        ],
        [
         "9",
         "1580",
         "0"
        ],
        [
         "10",
         "1857",
         "1"
        ],
        [
         "11",
         "1880",
         "1"
        ],
        [
         "12",
         "1664",
         "1"
        ],
        [
         "13",
         "1364",
         "0"
        ],
        [
         "14",
         "1693",
         "0"
        ],
        [
         "15",
         "1850",
         "1"
        ],
        [
         "16",
         "1633",
         "0"
        ],
        [
         "17",
         "1634",
         "0"
        ],
        [
         "18",
         "1636",
         "1"
        ],
        [
         "19",
         "1855",
         "1"
        ],
        [
         "20",
         "1987",
         "1"
        ],
        [
         "21",
         "1997",
         "1"
        ],
        [
         "22",
         "1422",
         "0"
        ],
        [
         "23",
         "1508",
         "0"
        ],
        [
         "24",
         "1720",
         "1"
        ],
        [
         "25",
         "1879",
         "1"
        ],
        [
         "26",
         "1634",
         "1"
        ],
        [
         "27",
         "1802",
         "1"
        ],
        [
         "28",
         "1849",
         "1"
        ],
        [
         "29",
         "1764",
         "1"
        ],
        [
         "30",
         "1460",
         "0"
        ],
        [
         "31",
         "1675",
         "1"
        ],
        [
         "32",
         "1656",
         "0"
        ],
        [
         "33",
         "2020",
         "1"
        ],
        [
         "34",
         "1850",
         "1"
        ],
        [
         "35",
         "1865",
         "1"
        ],
        [
         "36",
         "1664",
         "0"
        ],
        [
         "37",
         "1872",
         "1"
        ],
        [
         "38",
         "1654",
         "0"
        ],
        [
         "39",
         "1393",
         "0"
        ],
        [
         "40",
         "1587",
         "0"
        ],
        [
         "41",
         "1631",
         "1"
        ],
        [
         "42",
         "1931",
         "1"
        ],
        [
         "43",
         "1370",
         "0"
        ],
        [
         "44",
         "1810",
         "1"
        ],
        [
         "45",
         "1414",
         "0"
        ],
        [
         "46",
         "1761",
         "1"
        ],
        [
         "47",
         "1477",
         "0"
        ],
        [
         "48",
         "1486",
         "0"
        ],
        [
         "49",
         "1561",
         "0"
        ]
       ],
       "shape": {
        "columns": 2,
        "rows": 168
       }
      },
      "text/html": [
       "<div>\n",
       "<style scoped>\n",
       "    .dataframe tbody tr th:only-of-type {\n",
       "        vertical-align: middle;\n",
       "    }\n",
       "\n",
       "    .dataframe tbody tr th {\n",
       "        vertical-align: top;\n",
       "    }\n",
       "\n",
       "    .dataframe thead th {\n",
       "        text-align: right;\n",
       "    }\n",
       "</style>\n",
       "<table border=\"1\" class=\"dataframe\">\n",
       "  <thead>\n",
       "    <tr style=\"text-align: right;\">\n",
       "      <th></th>\n",
       "      <th>SAT</th>\n",
       "      <th>Admitted</th>\n",
       "    </tr>\n",
       "  </thead>\n",
       "  <tbody>\n",
       "    <tr>\n",
       "      <th>0</th>\n",
       "      <td>1363</td>\n",
       "      <td>0</td>\n",
       "    </tr>\n",
       "    <tr>\n",
       "      <th>1</th>\n",
       "      <td>1792</td>\n",
       "      <td>1</td>\n",
       "    </tr>\n",
       "    <tr>\n",
       "      <th>2</th>\n",
       "      <td>1954</td>\n",
       "      <td>1</td>\n",
       "    </tr>\n",
       "    <tr>\n",
       "      <th>3</th>\n",
       "      <td>1653</td>\n",
       "      <td>0</td>\n",
       "    </tr>\n",
       "    <tr>\n",
       "      <th>4</th>\n",
       "      <td>1593</td>\n",
       "      <td>0</td>\n",
       "    </tr>\n",
       "    <tr>\n",
       "      <th>...</th>\n",
       "      <td>...</td>\n",
       "      <td>...</td>\n",
       "    </tr>\n",
       "    <tr>\n",
       "      <th>163</th>\n",
       "      <td>1722</td>\n",
       "      <td>1</td>\n",
       "    </tr>\n",
       "    <tr>\n",
       "      <th>164</th>\n",
       "      <td>1750</td>\n",
       "      <td>1</td>\n",
       "    </tr>\n",
       "    <tr>\n",
       "      <th>165</th>\n",
       "      <td>1555</td>\n",
       "      <td>0</td>\n",
       "    </tr>\n",
       "    <tr>\n",
       "      <th>166</th>\n",
       "      <td>1524</td>\n",
       "      <td>0</td>\n",
       "    </tr>\n",
       "    <tr>\n",
       "      <th>167</th>\n",
       "      <td>1461</td>\n",
       "      <td>0</td>\n",
       "    </tr>\n",
       "  </tbody>\n",
       "</table>\n",
       "<p>168 rows × 2 columns</p>\n",
       "</div>"
      ],
      "text/plain": [
       "      SAT  Admitted\n",
       "0    1363         0\n",
       "1    1792         1\n",
       "2    1954         1\n",
       "3    1653         0\n",
       "4    1593         0\n",
       "..    ...       ...\n",
       "163  1722         1\n",
       "164  1750         1\n",
       "165  1555         0\n",
       "166  1524         0\n",
       "167  1461         0\n",
       "\n",
       "[168 rows x 2 columns]"
      ]
     },
     "execution_count": 4,
     "metadata": {},
     "output_type": "execute_result"
    }
   ],
   "source": [
    "# Replace all No entries with 0, and all Yes entries with 1\n",
    "data = raw_data.copy()\n",
    "data['Admitted'] = data['Admitted'].map({'Yes': 1, 'No': 0})\n",
    "data"
   ]
  },
  {
   "cell_type": "code",
   "execution_count": 5,
   "metadata": {},
   "outputs": [
    {
     "data": {
      "application/vnd.microsoft.datawrangler.viewer.v0+json": {
       "columns": [
        {
         "name": "index",
         "rawType": "object",
         "type": "string"
        },
        {
         "name": "SAT",
         "rawType": "float64",
         "type": "float"
        },
        {
         "name": "Admitted",
         "rawType": "float64",
         "type": "float"
        }
       ],
       "conversionMethod": "pd.DataFrame",
       "ref": "b63505c0-a36b-440e-9504-9d6a1c860632",
       "rows": [
        [
         "count",
         "168.0",
         "168.0"
        ],
        [
         "mean",
         "1695.2738095238096",
         "0.5595238095238095"
        ],
        [
         "std",
         "183.01901679212554",
         "0.49792841455026227"
        ],
        [
         "min",
         "1334.0",
         "0.0"
        ],
        [
         "25%",
         "1547.5",
         "0.0"
        ],
        [
         "50%",
         "1691.5",
         "1.0"
        ],
        [
         "75%",
         "1844.5",
         "1.0"
        ],
        [
         "max",
         "2050.0",
         "1.0"
        ]
       ],
       "shape": {
        "columns": 2,
        "rows": 8
       }
      },
      "text/html": [
       "<div>\n",
       "<style scoped>\n",
       "    .dataframe tbody tr th:only-of-type {\n",
       "        vertical-align: middle;\n",
       "    }\n",
       "\n",
       "    .dataframe tbody tr th {\n",
       "        vertical-align: top;\n",
       "    }\n",
       "\n",
       "    .dataframe thead th {\n",
       "        text-align: right;\n",
       "    }\n",
       "</style>\n",
       "<table border=\"1\" class=\"dataframe\">\n",
       "  <thead>\n",
       "    <tr style=\"text-align: right;\">\n",
       "      <th></th>\n",
       "      <th>SAT</th>\n",
       "      <th>Admitted</th>\n",
       "    </tr>\n",
       "  </thead>\n",
       "  <tbody>\n",
       "    <tr>\n",
       "      <th>count</th>\n",
       "      <td>168.000000</td>\n",
       "      <td>168.000000</td>\n",
       "    </tr>\n",
       "    <tr>\n",
       "      <th>mean</th>\n",
       "      <td>1695.273810</td>\n",
       "      <td>0.559524</td>\n",
       "    </tr>\n",
       "    <tr>\n",
       "      <th>std</th>\n",
       "      <td>183.019017</td>\n",
       "      <td>0.497928</td>\n",
       "    </tr>\n",
       "    <tr>\n",
       "      <th>min</th>\n",
       "      <td>1334.000000</td>\n",
       "      <td>0.000000</td>\n",
       "    </tr>\n",
       "    <tr>\n",
       "      <th>25%</th>\n",
       "      <td>1547.500000</td>\n",
       "      <td>0.000000</td>\n",
       "    </tr>\n",
       "    <tr>\n",
       "      <th>50%</th>\n",
       "      <td>1691.500000</td>\n",
       "      <td>1.000000</td>\n",
       "    </tr>\n",
       "    <tr>\n",
       "      <th>75%</th>\n",
       "      <td>1844.500000</td>\n",
       "      <td>1.000000</td>\n",
       "    </tr>\n",
       "    <tr>\n",
       "      <th>max</th>\n",
       "      <td>2050.000000</td>\n",
       "      <td>1.000000</td>\n",
       "    </tr>\n",
       "  </tbody>\n",
       "</table>\n",
       "</div>"
      ],
      "text/plain": [
       "               SAT    Admitted\n",
       "count   168.000000  168.000000\n",
       "mean   1695.273810    0.559524\n",
       "std     183.019017    0.497928\n",
       "min    1334.000000    0.000000\n",
       "25%    1547.500000    0.000000\n",
       "50%    1691.500000    1.000000\n",
       "75%    1844.500000    1.000000\n",
       "max    2050.000000    1.000000"
      ]
     },
     "execution_count": 5,
     "metadata": {},
     "output_type": "execute_result"
    }
   ],
   "source": [
    "# Check the descriptive statistics\n",
    "data.describe()"
   ]
  },
  {
   "cell_type": "markdown",
   "metadata": {},
   "source": [
    "### Declare the dependent and independent variables"
   ]
  },
  {
   "cell_type": "code",
   "execution_count": 6,
   "metadata": {},
   "outputs": [],
   "source": [
    "y = data['Admitted']# dependent variable\n",
    "x1 = data['SAT']# independent variable"
   ]
  },
  {
   "cell_type": "markdown",
   "metadata": {},
   "source": [
    "### Simple Logistic Regression"
   ]
  },
  {
   "cell_type": "markdown",
   "metadata": {},
   "source": [
    "Run the regression and visualize it on a scatter plot (no need to plot the line)."
   ]
  },
  {
   "cell_type": "code",
   "execution_count": 7,
   "metadata": {
    "scrolled": true
   },
   "outputs": [
    {
     "name": "stdout",
     "output_type": "stream",
     "text": [
      "Optimization terminated successfully.\n",
      "         Current function value: 0.137766\n",
      "         Iterations 10\n"
     ]
    },
    {
     "data": {
      "text/html": [
       "<table class=\"simpletable\">\n",
       "<caption>Logit Regression Results</caption>\n",
       "<tr>\n",
       "  <th>Dep. Variable:</th>       <td>Admitted</td>     <th>  No. Observations:  </th>  <td>   168</td>  \n",
       "</tr>\n",
       "<tr>\n",
       "  <th>Model:</th>                 <td>Logit</td>      <th>  Df Residuals:      </th>  <td>   166</td>  \n",
       "</tr>\n",
       "<tr>\n",
       "  <th>Method:</th>                 <td>MLE</td>       <th>  Df Model:          </th>  <td>     1</td>  \n",
       "</tr>\n",
       "<tr>\n",
       "  <th>Date:</th>            <td>Sat, 15 Feb 2025</td> <th>  Pseudo R-squ.:     </th>  <td>0.7992</td>  \n",
       "</tr>\n",
       "<tr>\n",
       "  <th>Time:</th>                <td>10:26:03</td>     <th>  Log-Likelihood:    </th> <td> -23.145</td> \n",
       "</tr>\n",
       "<tr>\n",
       "  <th>converged:</th>             <td>True</td>       <th>  LL-Null:           </th> <td> -115.26</td> \n",
       "</tr>\n",
       "<tr>\n",
       "  <th>Covariance Type:</th>     <td>nonrobust</td>    <th>  LLR p-value:       </th> <td>5.805e-42</td>\n",
       "</tr>\n",
       "</table>\n",
       "<table class=\"simpletable\">\n",
       "<tr>\n",
       "    <td></td>       <th>coef</th>     <th>std err</th>      <th>z</th>      <th>P>|z|</th>  <th>[0.025</th>    <th>0.975]</th>  \n",
       "</tr>\n",
       "<tr>\n",
       "  <th>const</th> <td>  -69.9128</td> <td>   15.737</td> <td>   -4.443</td> <td> 0.000</td> <td> -100.756</td> <td>  -39.070</td>\n",
       "</tr>\n",
       "<tr>\n",
       "  <th>SAT</th>   <td>    0.0420</td> <td>    0.009</td> <td>    4.454</td> <td> 0.000</td> <td>    0.024</td> <td>    0.060</td>\n",
       "</tr>\n",
       "</table><br/><br/>Possibly complete quasi-separation: A fraction 0.27 of observations can be<br/>perfectly predicted. This might indicate that there is complete<br/>quasi-separation. In this case some parameters will not be identified."
      ],
      "text/latex": [
       "\\begin{center}\n",
       "\\begin{tabular}{lclc}\n",
       "\\toprule\n",
       "\\textbf{Dep. Variable:}   &     Admitted     & \\textbf{  No. Observations:  } &      168    \\\\\n",
       "\\textbf{Model:}           &      Logit       & \\textbf{  Df Residuals:      } &      166    \\\\\n",
       "\\textbf{Method:}          &       MLE        & \\textbf{  Df Model:          } &        1    \\\\\n",
       "\\textbf{Date:}            & Sat, 15 Feb 2025 & \\textbf{  Pseudo R-squ.:     } &   0.7992    \\\\\n",
       "\\textbf{Time:}            &     10:26:03     & \\textbf{  Log-Likelihood:    } &   -23.145   \\\\\n",
       "\\textbf{converged:}       &       True       & \\textbf{  LL-Null:           } &   -115.26   \\\\\n",
       "\\textbf{Covariance Type:} &    nonrobust     & \\textbf{  LLR p-value:       } & 5.805e-42   \\\\\n",
       "\\bottomrule\n",
       "\\end{tabular}\n",
       "\\begin{tabular}{lcccccc}\n",
       "               & \\textbf{coef} & \\textbf{std err} & \\textbf{z} & \\textbf{P$> |$z$|$} & \\textbf{[0.025} & \\textbf{0.975]}  \\\\\n",
       "\\midrule\n",
       "\\textbf{const} &     -69.9128  &       15.737     &    -4.443  &         0.000        &     -100.756    &      -39.070     \\\\\n",
       "\\textbf{SAT}   &       0.0420  &        0.009     &     4.454  &         0.000        &        0.024    &        0.060     \\\\\n",
       "\\bottomrule\n",
       "\\end{tabular}\n",
       "%\\caption{Logit Regression Results}\n",
       "\\end{center}\n",
       "\n",
       "Possibly complete quasi-separation: A fraction 0.27 of observations can be \\newline\n",
       " perfectly predicted. This might indicate that there is complete \\newline\n",
       " quasi-separation. In this case some parameters will not be identified."
      ],
      "text/plain": [
       "<class 'statsmodels.iolib.summary.Summary'>\n",
       "\"\"\"\n",
       "                           Logit Regression Results                           \n",
       "==============================================================================\n",
       "Dep. Variable:               Admitted   No. Observations:                  168\n",
       "Model:                          Logit   Df Residuals:                      166\n",
       "Method:                           MLE   Df Model:                            1\n",
       "Date:                Sat, 15 Feb 2025   Pseudo R-squ.:                  0.7992\n",
       "Time:                        10:26:03   Log-Likelihood:                -23.145\n",
       "converged:                       True   LL-Null:                       -115.26\n",
       "Covariance Type:            nonrobust   LLR p-value:                 5.805e-42\n",
       "==============================================================================\n",
       "                 coef    std err          z      P>|z|      [0.025      0.975]\n",
       "------------------------------------------------------------------------------\n",
       "const        -69.9128     15.737     -4.443      0.000    -100.756     -39.070\n",
       "SAT            0.0420      0.009      4.454      0.000       0.024       0.060\n",
       "==============================================================================\n",
       "\n",
       "Possibly complete quasi-separation: A fraction 0.27 of observations can be\n",
       "perfectly predicted. This might indicate that there is complete\n",
       "quasi-separation. In this case some parameters will not be identified.\n",
       "\"\"\""
      ]
     },
     "execution_count": 7,
     "metadata": {},
     "output_type": "execute_result"
    }
   ],
   "source": [
    "x = sm.add_constant(x1)\n",
    "reg_log = sm.Logit(y,x)\n",
    "results_log = reg_log.fit()\n",
    "\n",
    "# Get the regression summary\n",
    "results_log.summary()"
   ]
  },
  {
   "cell_type": "markdown",
   "metadata": {},
   "source": [
    "Note: The intercept (const) in the logistic regression results is -69.9128."
   ]
  },
  {
   "cell_type": "markdown",
   "metadata": {},
   "source": [
    "### Regression summary analysis:\n",
    "Model Fit: The logistic regression model fits the data well.\n",
    "\n",
    "Key Findings:\n",
    "\n",
    "Intercept: The starting point (when SAT is zero) is significantly negative.\n",
    "\n",
    "SAT Score: Higher SAT scores increase the chances of being admitted.\n",
    "\n",
    "Statistical Significance: Both the intercept and SAT score effects are highly significant, meaning the results are reliable.\n",
    "\n",
    "Coefficients:\n",
    "\n",
    "Intercept (const): -69.9128 (p-value < 0.001), indicating a significant negative intercept.\n",
    "\n",
    "SAT: 0.0420 (p-value < 0.001), indicating a significant positive relationship between SAT scores and the probability of being admitted.\n",
    "\n",
    "Conclusion:\n",
    "Higher SAT scores significantly improve the likelihood of admission. The model is a good predictor of admission based on SAT scores.\n"
   ]
  },
  {
   "cell_type": "code",
   "execution_count": 8,
   "metadata": {},
   "outputs": [
    {
     "data": {
      "image/png": "[encoded data removed]",
      "text/plain": [
       "<Figure size 640x480 with 1 Axes>"
      ]
     },
     "metadata": {},
     "output_type": "display_data"
    }
   ],
   "source": [
    "# Create a scatter plot of x1 (Duration, no constant) and y (Subscribed)\n",
    "plt.scatter(x1,y,color = 'C0')\n",
    "\n",
    "# Don't forget to label your axes!\n",
    "plt.xlabel('SAT', fontsize = 20)\n",
    "plt.ylabel('Admitted', fontsize = 20)\n",
    "plt.show()"
   ]
  },
  {
   "cell_type": "markdown",
   "metadata": {},
   "source": [
    "### Plot a logistic regression curve"
   ]
  },
  {
   "cell_type": "code",
   "execution_count": 9,
   "metadata": {},
   "outputs": [
    {
     "data": {
      "image/png": "[encoded data removed]",
      "text/plain": [
       "<Figure size 640x480 with 1 Axes>"
      ]
     },
     "metadata": {},
     "output_type": "display_data"
    }
   ],
   "source": [
    "# Generate values for SAT to plot the logistic regression curve\n",
    "x_values = pd.DataFrame({'SAT': range(data['SAT'].min(), data['SAT'].max())})\n",
    "x_values = sm.add_constant(x_values)\n",
    "\n",
    "# Predict the probability of admission for each SAT score\n",
    "y_values = results_log.predict(x_values)\n",
    "\n",
    "# Plot the logistic regression curve\n",
    "plt.scatter(x1, y, color='C0', label='Data')\n",
    "plt.plot(x_values['SAT'], y_values, color='C1', label='Logistic Regression Curve')\n",
    "\n",
    "# Label the axes\n",
    "plt.xlabel('SAT', fontsize=20)\n",
    "plt.ylabel('Admitted', fontsize=20)\n",
    "plt.legend()\n",
    "plt.show()"
   ]
  },
  {
   "cell_type": "markdown",
   "metadata": {},
   "source": [
    "### Making predictions\n",
    "\n",
    "If a student have a SAT of 1400 what is the probability of a student being admitted?"
   ]
  },
  {
   "cell_type": "code",
   "execution_count": 14,
   "metadata": {},
   "outputs": [
    {
     "name": "stdout",
     "output_type": "stream",
     "text": [
      "The probability of a student with a SAT score of 1600 being admitted is 0.0627\n"
     ]
    }
   ],
   "source": [
    "# Define the SAT score for prediction\n",
    "sat_score = 1600\n",
    "\n",
    "# Create a new data frame with the SAT score and a constant term\n",
    "new_data = pd.DataFrame({'const': 1, 'SAT': [sat_score]})\n",
    "\n",
    "# Predict the probability of admission\n",
    "predicted_prob = results_log.predict(new_data)\n",
    "print(f'The probability of a student with a SAT score of {sat_score} being admitted is {predicted_prob[0]:.4f}')"
   ]
  }
 ],
 "metadata": {
  "kernelspec": {
   "display_name": "base",
   "language": "python",
   "name": "python3"
  },
  "language_info": {
   "codemirror_mode": {
    "name": "ipython",
    "version": 3
   },
   "file_extension": ".py",
   "mimetype": "text/x-python",
   "name": "python",
   "nbconvert_exporter": "python",
   "pygments_lexer": "ipython3",
   "version": "3.11.7"
  }
 },
 "nbformat": 4,
 "nbformat_minor": 2
}
