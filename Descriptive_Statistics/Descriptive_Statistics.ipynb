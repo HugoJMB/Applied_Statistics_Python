{
 "cells": [
  {
   "cell_type": "markdown",
   "id": "cfc962c1",
   "metadata": {},
   "source": [
    "\n",
    "# Khipus.ai\n",
    "## Applied Statistics with Python\n",
    "### Descriptive Statistics\n",
    "### Case Study - Airbnb dataset\n",
    "\n",
    "<span>© Copyright Notice 2025, Khipus.ai - All Rights Reserved.</span>\n"
   ]
  },
  {
   "cell_type": "markdown",
   "id": "ff0da1a1",
   "metadata": {},
   "source": [
    "\n",
    "### Introduction\n",
    "In this notebook, we will explore descriptive statistics using the `airnb.csv` dataset. We will cover:\n",
    "- Frequency distribution tables\n",
    "- Visualizations:Frequency Distribution Tables Bar charts, Pie charts,Histograms,Scatter plot, Boxplot\n",
    "- Measures of Central Tendency: Mean, Median, Mode\n",
    "- Dispersion Metrics: Range, Variance, Standard Deviation, Percentiles\n",
    "- Correlation\n"
   ]
  },
  {
   "cell_type": "code",
   "execution_count": 62,
   "id": "31f037af",
   "metadata": {},
   "outputs": [],
   "source": [
    "import numpy as np  # Import the numpy library for numerical operations\n",
    "import pandas as pd  # Import the pandas library for data manipulation and analysis\n",
    "import matplotlib.pyplot as plt  # Import the matplotlib library for data visualization"
   ]
  },
  {
   "cell_type": "markdown",
   "id": "a4948ae8",
   "metadata": {},
   "source": [
    "Note: The Airbnb dataset is a collection of data that provides insights into Airbnb listings and bookings. This dataset is widely used in data analysis and machine learning projects to study trends, pricing strategies, user behavior, and more. "
   ]
  },
  {
   "cell_type": "code",
   "execution_count": null,
   "id": "b802bd73",
   "metadata": {},
   "outputs": [],
   "source": [
    "# Load the dataset\n",
    "data = pd.read_csv('airnb.csv')  # Read the dataset into a pandas DataFrame\n",
    "data.head()  # Show the first 5 rows of the dataset to get an overview"
   ]
  },
  {
   "cell_type": "markdown",
   "id": "13c979dd",
   "metadata": {},
   "source": [
    "### Frequency Distribution Tables"
   ]
  },
  {
   "cell_type": "code",
   "execution_count": null,
   "id": "abf046c0",
   "metadata": {},
   "outputs": [],
   "source": [
    "\n",
    "### Frequency Distribution Tables\n",
    "\n",
    "# Example: Frequency distribution of 'Number of bed'\n",
    "frequency_table = data['Number of bed'].value_counts()  # Calculate the frequency of each unique value in the 'Number of bed' column\n",
    "frequency_table  # Display the frequency table\n"
   ]
  },
  {
   "cell_type": "markdown",
   "id": "f350cfc2",
   "metadata": {},
   "source": [
    "### Bar Charts"
   ]
  },
  {
   "cell_type": "code",
   "execution_count": null,
   "id": "8499aebb",
   "metadata": {},
   "outputs": [],
   "source": [
    "### Bar Charts\n",
    "\n",
    "# Bar chart for 'Number of bed'\n",
    "frequency_table.plot(kind='bar', title='Frequency of Number of Beds')  # Create a bar chart for the frequency table\n",
    "plt.xlabel('Number of Beds')  # Set the x-axis label\n",
    "plt.ylabel('Frequency')  # Set the y-axis label\n",
    "plt.show()  # Display the bar chart\n",
    "\n"
   ]
  },
  {
   "cell_type": "markdown",
   "id": "8a5340b9",
   "metadata": {},
   "source": [
    "### Pie Charts"
   ]
  },
  {
   "cell_type": "code",
   "execution_count": null,
   "id": "81102aca",
   "metadata": {},
   "outputs": [],
   "source": [
    "\n",
    "# Pie chart for 'Number of bed'\n",
    "frequency_table.plot(kind='pie', autopct='%1.1f%%', title='Number of Beds Distribution')  # Create a pie chart for the frequency table with percentage labels\n",
    "plt.ylabel('')  # Remove y-label for better presentation\n",
    "plt.show()  # Display the pie chart\n",
    "\n"
   ]
  },
  {
   "cell_type": "markdown",
   "id": "6acccf07",
   "metadata": {},
   "source": [
    "### Histograms"
   ]
  },
  {
   "cell_type": "code",
   "execution_count": null,
   "id": "0e4426f5",
   "metadata": {},
   "outputs": [],
   "source": [
    "# Define the price ranges\n",
    "bins = [0, 100, 200, 300,400,500,600]\n",
    "\n",
    "# Plot the histogram\n",
    "data['Price(in dollar)'].hist(bins=bins, edgecolor='black')\n",
    "\n",
    "# Set the title and labels\n",
    "plt.title('Distribution of Airbnb Prices')\n",
    "plt.xlabel('Price (in dollar)')\n",
    "plt.ylabel('Frequency')\n",
    "\n",
    "# Display the histogram\n",
    "plt.show()"
   ]
  },
  {
   "cell_type": "markdown",
   "id": "3376147a",
   "metadata": {},
   "source": [
    "### Scatter plot"
   ]
  },
  {
   "cell_type": "code",
   "execution_count": null,
   "id": "c324fb01",
   "metadata": {},
   "outputs": [],
   "source": [
    "# Scatter plot for Price and Offer price\n",
    "plt.scatter(data['Price(in dollar)'], data['Offer price(in dollar)'], alpha=0.5)#The alpha=0.5 parameter in the plt.scatter function sets the transparency level of the scatter plot points. The value of alpha ranges from 0 to 1\n",
    "plt.title('Scatter Plot of Price vs Offer Price')\n",
    "plt.xlabel('Price (in dollars)')\n",
    "plt.ylabel('Offer Price (in dollars)')\n",
    "plt.show()"
   ]
  },
  {
   "cell_type": "markdown",
   "id": "f6ca5b7b",
   "metadata": {},
   "source": [
    "### Boxplot"
   ]
  },
  {
   "cell_type": "code",
   "execution_count": null,
   "id": "584eae1c",
   "metadata": {},
   "outputs": [],
   "source": [
    "# Generate a boxplot of the 'Price(in dollar)' column\n",
    "plt.figure(figsize=(10, 6))  # Set the figure size\n",
    "plt.boxplot(data['Price(in dollar)'].dropna(), vert=False)  # Create a horizontal boxplot, dropping any NaN values\n",
    "plt.title('Boxplot of Airbnb Prices')  # Set the title of the plot\n",
    "plt.xlabel('Price (in dollars)')  # Set the x-axis label\n",
    "plt.show()  # Display the boxplot"
   ]
  },
  {
   "cell_type": "markdown",
   "id": "6559777a",
   "metadata": {},
   "source": [
    "### Measures of Central Tendency"
   ]
  },
  {
   "cell_type": "code",
   "execution_count": null,
   "id": "48aefce6",
   "metadata": {},
   "outputs": [],
   "source": [
    "# Calculate mean, median, and mode for the Price (in dollars) column\n",
    "mean_price = data['Price(in dollar)'].mean()\n",
    "median_price = data['Price(in dollar)'].median()\n",
    "mode_price = data['Price(in dollar)'].mode()[0]  # [0] is used to extract the first element from the result of the mode() function\n",
    "\n",
    "mean_price, median_price, mode_price"
   ]
  },
  {
   "cell_type": "markdown",
   "id": "cf472a82",
   "metadata": {},
   "source": [
    "Mean: 175.26 (average price)\n",
    "\n",
    "Median: 138.0 (middle value)\n",
    "\n",
    "Mode: 111 (most frequent price)"
   ]
  },
  {
   "cell_type": "markdown",
   "id": "7bdb0af0",
   "metadata": {},
   "source": [
    "### Generate Summary Statistics\n",
    "Use pandas to generate a summary statistics table for the dataset."
   ]
  },
  {
   "cell_type": "code",
   "execution_count": 9,
   "id": "45821950",
   "metadata": {},
   "outputs": [
    {
     "data": {
      "text/html": [
       "<div>\n",
       "<style scoped>\n",
       "    .dataframe tbody tr th:only-of-type {\n",
       "        vertical-align: middle;\n",
       "    }\n",
       "\n",
       "    .dataframe tbody tr th {\n",
       "        vertical-align: top;\n",
       "    }\n",
       "\n",
       "    .dataframe thead th {\n",
       "        text-align: right;\n",
       "    }\n",
       "</style>\n",
       "<table border=\"1\" class=\"dataframe\">\n",
       "  <thead>\n",
       "    <tr style=\"text-align: right;\">\n",
       "      <th></th>\n",
       "      <th>Price(in dollar)</th>\n",
       "      <th>Offer price(in dollar)</th>\n",
       "    </tr>\n",
       "  </thead>\n",
       "  <tbody>\n",
       "    <tr>\n",
       "      <th>count</th>\n",
       "      <td>538.000000</td>\n",
       "      <td>95.000000</td>\n",
       "    </tr>\n",
       "    <tr>\n",
       "      <th>mean</th>\n",
       "      <td>175.256506</td>\n",
       "      <td>150.094737</td>\n",
       "    </tr>\n",
       "    <tr>\n",
       "      <th>std</th>\n",
       "      <td>136.357118</td>\n",
       "      <td>111.180711</td>\n",
       "    </tr>\n",
       "    <tr>\n",
       "      <th>min</th>\n",
       "      <td>16.000000</td>\n",
       "      <td>16.000000</td>\n",
       "    </tr>\n",
       "    <tr>\n",
       "      <th>25%</th>\n",
       "      <td>90.000000</td>\n",
       "      <td>73.000000</td>\n",
       "    </tr>\n",
       "    <tr>\n",
       "      <th>50%</th>\n",
       "      <td>138.000000</td>\n",
       "      <td>132.000000</td>\n",
       "    </tr>\n",
       "    <tr>\n",
       "      <th>75%</th>\n",
       "      <td>222.000000</td>\n",
       "      <td>179.500000</td>\n",
       "    </tr>\n",
       "    <tr>\n",
       "      <th>max</th>\n",
       "      <td>955.000000</td>\n",
       "      <td>610.000000</td>\n",
       "    </tr>\n",
       "  </tbody>\n",
       "</table>\n",
       "</div>"
      ],
      "text/plain": [
       "       Price(in dollar)  Offer price(in dollar)\n",
       "count        538.000000               95.000000\n",
       "mean         175.256506              150.094737\n",
       "std          136.357118              111.180711\n",
       "min           16.000000               16.000000\n",
       "25%           90.000000               73.000000\n",
       "50%          138.000000              132.000000\n",
       "75%          222.000000              179.500000\n",
       "max          955.000000              610.000000"
      ]
     },
     "execution_count": 9,
     "metadata": {},
     "output_type": "execute_result"
    }
   ],
   "source": [
    "# Generate Summary Statistics\n",
    "\n",
    "# Generate a summary statistics table for the dataset\n",
    "summary_statistics = data.describe()\n",
    "summary_statistics"
   ]
  },
  {
   "cell_type": "markdown",
   "id": "75e7476a",
   "metadata": {},
   "source": [
    "## Measures of Variability"
   ]
  },
  {
   "cell_type": "markdown",
   "id": "0878dbed",
   "metadata": {},
   "source": [
    "### Range\n",
    "\n",
    "Range=Maximum Value−Minimum Value"
   ]
  },
  {
   "cell_type": "code",
   "execution_count": 12,
   "id": "20f419b4",
   "metadata": {},
   "outputs": [
    {
     "data": {
      "text/plain": [
       "939"
      ]
     },
     "execution_count": 12,
     "metadata": {},
     "output_type": "execute_result"
    }
   ],
   "source": [
    "# Calculate the range for 'Price(in dollar)'\n",
    "range_price = data['Price(in dollar)'].max() - data['Price(in dollar)'].min()\n",
    "range_price"
   ]
  },
  {
   "cell_type": "markdown",
   "id": "a5b26e17",
   "metadata": {},
   "source": [
    "### Percentiles\n",
    "\n",
    "Common Percentiles:​\n",
    "\n",
    "25th Percentile (Q1): Lower quartile.​\n",
    "\n",
    "50th Percentile (Q2): Median.​\n",
    "\n",
    "75th Percentile (Q3): Upper quartile."
   ]
  },
  {
   "cell_type": "code",
   "execution_count": 11,
   "id": "e63f808b",
   "metadata": {},
   "outputs": [
    {
     "data": {
      "text/plain": [
       "0.25     90.0\n",
       "0.50    138.0\n",
       "0.75    222.0\n",
       "Name: Price(in dollar), dtype: float64"
      ]
     },
     "execution_count": 11,
     "metadata": {},
     "output_type": "execute_result"
    }
   ],
   "source": [
    "# Calculate the percentiles for the 'Price(in dollar)' column\n",
    "percentiles = data['Price(in dollar)'].quantile([0.25, 0.5, 0.75])\n",
    "percentiles"
   ]
  },
  {
   "cell_type": "markdown",
   "id": "06a1e7cd",
   "metadata": {},
   "source": [
    "### Variance \n",
    "Quantifies how much data varies from the mean.​\n",
    "\n",
    "### Standard deviation\n",
    " Average distance of the data from the mean (square root of variance).​"
   ]
  },
  {
   "cell_type": "code",
   "execution_count": 10,
   "id": "209d15ad",
   "metadata": {},
   "outputs": [
    {
     "data": {
      "text/plain": [
       "(18593.26369130443, 136.3571182274854)"
      ]
     },
     "execution_count": 10,
     "metadata": {},
     "output_type": "execute_result"
    }
   ],
   "source": [
    "### Dispersion Metrics\n",
    "\n",
    "# Variance and Standard Deviation\n",
    "variance = data['Price(in dollar)'].var()  # Calculate the variance of the 'Price(in dollar)' column\n",
    "std_dev = data['Price(in dollar)'].std()  # Calculate the standard deviation of the 'Price(in dollar)' column\n",
    "\n",
    "variance, std_dev  # Display the variance and standard deviation\n",
    "\n"
   ]
  },
  {
   "cell_type": "markdown",
   "id": "227019a6",
   "metadata": {},
   "source": [
    "### Standard Deviation Visualization"
   ]
  },
  {
   "cell_type": "code",
   "execution_count": null,
   "id": "04903a5a",
   "metadata": {},
   "outputs": [],
   "source": [
    "# Create a range of values for visualization\n",
    "x = np.linspace(mean_price - 3 * std_dev, mean_price + 3 * std_dev, 1000)\n",
    "y = (1 / (std_dev * np.sqrt(2 * np.pi))) * np.exp(-0.5 * ((x - mean_price) / std_dev)**2)\n",
    "\n",
    "# Plotting the normal distribution with mean and standard deviation\n",
    "plt.figure(figsize=(10, 6))\n",
    "plt.plot(x, y, label='Normal Distribution', color='blue')\n",
    "plt.axvline(mean_price, color='green', linestyle='--', label='Mean')\n",
    "plt.axvline(mean_price - std_dev, color='red', linestyle='--', label='1 Std Dev Below Mean')\n",
    "plt.axvline(mean_price + std_dev, color='red', linestyle='--', label='1 Std Dev Above Mean')\n",
    "\n",
    "# Add labels and legend\n",
    "plt.title('Visualization of Standard Deviation', fontsize=16)\n",
    "plt.xlabel('Price (in dollars)', fontsize=12)\n",
    "plt.ylabel('Density', fontsize=12)\n",
    "plt.legend()\n",
    "plt.grid(True)\n",
    "plt.show()"
   ]
  },
  {
   "cell_type": "markdown",
   "id": "62cf5646",
   "metadata": {},
   "source": [
    "### Correlation"
   ]
  },
  {
   "cell_type": "code",
   "execution_count": null,
   "id": "c2c0dcf3",
   "metadata": {},
   "outputs": [],
   "source": [
    "# Calculating the correlation between Number of Beds and Price (in dollars)\n",
    "correlation_beds_price = data[['Number of bed', 'Price(in dollar)']].corr()#Calculate the correlation matrix between 'Price(in dollar)' and 'Number of bed'\n",
    "correlation_beds_price"
   ]
  },
  {
   "cell_type": "code",
   "execution_count": null,
   "id": "c48dc6b8",
   "metadata": {},
   "outputs": [],
   "source": []
  }
 ],
 "metadata": {
  "kernelspec": {
   "display_name": "base",
   "language": "python",
   "name": "python3"
  },
  "language_info": {
   "codemirror_mode": {
    "name": "ipython",
    "version": 3
   },
   "file_extension": ".py",
   "mimetype": "text/x-python",
   "name": "python",
   "nbconvert_exporter": "python",
   "pygments_lexer": "ipython3",
   "version": "3.11.7"
  }
 },
 "nbformat": 4,
 "nbformat_minor": 5
}
