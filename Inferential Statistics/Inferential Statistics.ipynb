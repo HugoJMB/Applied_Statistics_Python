{
 "cells": [
  {
   "cell_type": "markdown",
   "id": "9e7023c2",
   "metadata": {},
   "source": [
    "\n",
    "# Khipus.ai\n",
    "## Applied Statistics with Python\n",
    "### Inferential Statistics (Predictions): Normal distribution, Central Limit Theorem (CLT), confidence intervals and margin of error, T-distribution.\n",
    "<span>© Copyright Notice 2025, Khipus.ai - All Rights Reserved.</span>\n"
   ]
  },
  {
   "cell_type": "markdown",
   "id": "9634ae84",
   "metadata": {},
   "source": [
    "\n",
    "## Normal Distribution\n",
    "The normal distribution, also known as the Gaussian distribution, is a bell-shaped curve that is symmetric about the mean. It is defined by its mean (μ) and standard deviation (σ).\n",
    "\n",
    "### Example:\n",
    "Below is an example of how to generate and visualize a normal distribution using Python.\n"
   ]
  },
  {
   "cell_type": "code",
   "execution_count": null,
   "id": "3350ed75",
   "metadata": {},
   "outputs": [],
   "source": [
    "\n",
    "import numpy as np\n",
    "import matplotlib.pyplot as plt\n",
    "\n",
    "# Parameters for the normal distribution\n",
    "mean = 0\n",
    "std_dev = 1\n",
    "sample_size = 1000\n",
    "\n",
    "# Generate data\n",
    "data = np.random.normal(mean, std_dev, sample_size)\n",
    "\n",
    "# Plot the data\n",
    "plt.hist(data, bins=30, density=True, alpha=0.6, color='g')\n",
    "plt.title('Normal Distribution (mean=0, std_dev=1)')\n",
    "plt.xlabel('Value')\n",
    "plt.ylabel('Frequency')\n",
    "plt.show()\n"
   ]
  },
  {
   "cell_type": "markdown",
   "id": "9b876e19",
   "metadata": {},
   "source": [
    "\n",
    "## Central Limit Theorem (CLT)\n",
    "The Central Limit Theorem states that the sampling distribution of the sample mean approaches a normal distribution as the sample size increases, regardless of the population's distribution.\n",
    "\n",
    "### Example:\n",
    "Below is an example demonstrating the CLT by sampling from a uniform distribution.\n"
   ]
  },
  {
   "cell_type": "code",
   "execution_count": null,
   "id": "62b9fb5e",
   "metadata": {},
   "outputs": [],
   "source": [
    "\n",
    "# Parameters\n",
    "population = np.random.uniform(0, 10, 10000)\n",
    "sample_means = []\n",
    "\n",
    "# Draw 1000 samples of size 30\n",
    "for _ in range(1000):\n",
    "    sample = np.random.choice(population, 30)\n",
    "    sample_means.append(np.mean(sample))\n",
    "\n",
    "# Plot the distribution of sample means\n",
    "plt.hist(sample_means, bins=30, density=True, alpha=0.6, color='b')\n",
    "plt.title('Demonstration of the Central Limit Theorem')\n",
    "plt.xlabel('Sample Mean')\n",
    "plt.ylabel('Frequency')\n",
    "plt.show()\n"
   ]
  },
  {
   "cell_type": "markdown",
   "id": "c1865def",
   "metadata": {},
   "source": [
    "\n",
    "## Confidence Intervals and Margin of Error\n",
    "A confidence interval is a range of values that is likely to contain the population parameter with a certain level of confidence. The margin of error is the amount of error that can be tolerated.\n",
    "\n",
    "### Example:\n",
    "Below is an example of calculating a 95% confidence interval for a sample mean.\n"
   ]
  },
  {
   "cell_type": "code",
   "execution_count": null,
   "id": "b679d7f3",
   "metadata": {},
   "outputs": [],
   "source": [
    "\n",
    "import scipy.stats as stats\n",
    "\n",
    "# Generate a sample\n",
    "sample = np.random.normal(50, 10, 100)\n",
    "sample_mean = np.mean(sample)\n",
    "sample_std = np.std(sample, ddof=1)\n",
    "n = len(sample)\n",
    "\n",
    "# Calculate the margin of error\n",
    "confidence_level = 0.95\n",
    "z_score = stats.norm.ppf((1 + confidence_level) / 2)\n",
    "margin_of_error = z_score * (sample_std / np.sqrt(n))\n",
    "\n",
    "# Confidence interval\n",
    "ci_lower = sample_mean - margin_of_error\n",
    "ci_upper = sample_mean + margin_of_error\n",
    "\n",
    "print(f\"Sample Mean: {sample_mean:.2f}\")\n",
    "print(f\"95% Confidence Interval: [{ci_lower:.2f}, {ci_upper:.2f}]\")\n"
   ]
  },
  {
   "cell_type": "markdown",
   "id": "0cf62316",
   "metadata": {},
   "source": [
    "\n",
    "## T-Distribution\n",
    "The t-distribution is similar to the normal distribution but has heavier tails, making it useful for small sample sizes.\n",
    "\n",
    "### Example:\n",
    "Below is an example of comparing the t-distribution with the normal distribution.\n"
   ]
  },
  {
   "cell_type": "code",
   "execution_count": null,
   "id": "20efa898",
   "metadata": {},
   "outputs": [],
   "source": [
    "\n",
    "x = np.linspace(-4, 4, 1000)\n",
    "normal_pdf = stats.norm.pdf(x)\n",
    "t_pdf = stats.t.pdf(x, df=10)\n",
    "\n",
    "# Plot\n",
    "plt.plot(x, normal_pdf, label='Normal Distribution')\n",
    "plt.plot(x, t_pdf, label='T-Distribution (df=10)', linestyle='dashed')\n",
    "plt.title('Comparison of Normal and T-Distribution')\n",
    "plt.xlabel('Value')\n",
    "plt.ylabel('Density')\n",
    "plt.legend()\n",
    "plt.show()\n"
   ]
  }
 ],
 "metadata": {},
 "nbformat": 4,
 "nbformat_minor": 5
}
