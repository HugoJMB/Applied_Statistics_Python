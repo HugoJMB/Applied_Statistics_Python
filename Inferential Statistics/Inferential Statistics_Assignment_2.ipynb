{
 "cells": [
  {
   "cell_type": "markdown",
   "id": "b2015842",
   "metadata": {},
   "source": [
    "\n",
    "# Khipus.ai\n",
    "\n",
    "## Applied Statistics with Python\n",
    "\n",
    "### Inferential Statistics\n",
    "\n",
    "<span>© Copyright Notice 2025, Khipus.ai - All Rights Reserved.</span>\n",
    "\n",
    "# Assignment 2\n",
    "\n"
   ]
  },
  {
   "cell_type": "markdown",
   "id": "467e1301",
   "metadata": {},
   "source": [
    "## Instructions\n",
    "1. Complete each task below by filling in the appropriate code in the provided cells.\n",
    "2. Ensure that your code runs without errors and produces the expected outputs.\n",
    "3. Submit your completed notebook as instructed by your instructor."
   ]
  },
  {
   "cell_type": "code",
   "execution_count": 19,
   "id": "ec140aba",
   "metadata": {},
   "outputs": [],
   "source": [
    "import numpy as np\n",
    "import pandas as pd\n",
    "import seaborn as sns # Seaborn is a Python data visualization library based on matplotlib for making easy and beautiful data visualizations.\n",
    "import matplotlib.pyplot as plt\n",
    "from scipy import stats # This module contains a large number of probability distributions as well as a growing library of statistical functions."
   ]
  },
  {
   "cell_type": "code",
   "execution_count": null,
   "id": "315de768",
   "metadata": {},
   "outputs": [],
   "source": [
    "# Load the sales_data.csv file\n",
    "\n",
    "sales_data = pd.read_csv('sales_data.csv')\n",
    "\n",
    "# Display the first few rows of the dataset\n",
    "sales_data.head()\n"
   ]
  },
  {
   "cell_type": "markdown",
   "id": "b218648e",
   "metadata": {},
   "source": [
    "\n",
    "## Task 1: Simulating Probability distributions\n",
    "\n",
    "1. Simulate Poisson distribution with lambda (lam) parameter 3 and size 10000"
   ]
  },
  {
   "cell_type": "code",
   "execution_count": null,
   "id": "a7dd9d74",
   "metadata": {},
   "outputs": [],
   "source": [
    "# Task 1\n",
    "# Simulate Poisson distribution with lambda (lam) parameter 3 and size 10000\n",
    "\n",
    "\n",
    "poisson_samples = np.random.poisson(lam=3, size=10000)\n",
    "#<your code goes here>\n",
    "# Plot histogram\n",
    "plt.figure(figsize=(10, 5))\n",
    "sns.histplot(poisson_samples, kde=False, bins=30)\n",
    "plt.title('Poisson Distribution (λ=3)')\n",
    "plt.xlabel('Number of Events')\n",
    "plt.ylabel('Frequency')\n",
    "plt.show()"
   ]
  },
  {
   "cell_type": "markdown",
   "id": "ecf757c6",
   "metadata": {},
   "source": [
    "2. Simulate exponential distribution with scale parameter 1 and size 1000\n"
   ]
  },
  {
   "cell_type": "code",
   "execution_count": null,
   "id": "e6543b77",
   "metadata": {},
   "outputs": [],
   "source": [
    "# Simulate exponential distribution with scale parameter 1\n",
    "\n",
    "exponential_samples = np.random.exponential(scale=1, size=10000)\n",
    "#<your code goes here>\n",
    "# Plot histogram\n",
    "plt.figure(figsize=(10, 5))\n",
    "sns.histplot(exponential_samples, kde=True, bins=30)\n",
    "plt.title('Exponential Distribution (λ=1)')\n",
    "plt.xlabel('Value')\n",
    "plt.ylabel('Frequency')\n",
    "plt.show()"
   ]
  },
  {
   "cell_type": "markdown",
   "id": "82372246",
   "metadata": {},
   "source": [
    "\n",
    "## Task 2: Central Limit Theorem (CLT)\n",
    "### Sampling Distribution Generation\n"
   ]
  },
  {
   "cell_type": "markdown",
   "id": "b4a6c332",
   "metadata": {},
   "source": [
    "Objective:\n",
    "\n",
    "The objective of this assignment is to understand the concept of the sampling distribution of the mean. By drawing multiple samples from the population and calculating their means, you will observe how the sample means are distributed, which should approximate a normal distribution according to the Central Limit Theory."
   ]
  },
  {
   "cell_type": "markdown",
   "id": "dddc09c1",
   "metadata": {},
   "source": [
    "1. Load the data from the CSV file (coffee_quality.csv)"
   ]
  },
  {
   "cell_type": "code",
   "execution_count": null,
   "id": "7116ec56",
   "metadata": {},
   "outputs": [],
   "source": [
    "coffee_quality = pd.read_csv('coffee_quality.csv')# Load the data from the CSV file\n",
    "coffee_quality.head()# Display the first few rows of the data"
   ]
  },
  {
   "cell_type": "markdown",
   "id": "a3d0b0d4",
   "metadata": {},
   "source": [
    "Note: The `aroma` column in the `coffee_quality` dataset represents the aroma quality score of the coffee samples. This score typically evaluates the fragrance and smell of the coffee, which is an important attribute in determining the overall quality of the coffee. The scores are usually given by coffee experts or through sensory evaluation processes and can range on a scale (from 0 to 10) where higher scores indicate better aroma quality."
   ]
  },
  {
   "cell_type": "code",
   "execution_count": null,
   "id": "c585933f",
   "metadata": {},
   "outputs": [],
   "source": [
    "coffee_quality['aroma']"
   ]
  },
  {
   "cell_type": "markdown",
   "id": "5b62fbb3",
   "metadata": {},
   "source": [
    "2. Extract Population Data:\n",
    "\n",
    "Extract the aroma column from the coffee_quality DataFrame.\n",
    "Drop any missing values and convert the data to a NumPy array called population.\n",
    "\n",
    "3. Set Parameters:\n",
    "\n",
    "Define the sample size as 50.\n",
    "Define the number of samples to draw as 1000.\n",
    "\n",
    "4. Set Random Seed:\n",
    "\n",
    "Set the random seed to 2024 using np.random.seed(2024) to ensure reproducibility of the random sampling.\n",
    "\n",
    "5. Simulate Sampling Distribution:\n",
    "\n",
    "Initialize an empty list sample_means to store the means of the samples.\n",
    "Loop 1000 times (as specified by num_samples):\n",
    "In each iteration, draw a random sample of size 50 from the population using np.random.choice.\n",
    "Calculate the mean of the sample and append it to the sample_means list.\n",
    "\n",
    "6. Plot the Sampling Distribution:\n",
    "\n",
    "Create a histogram of the sample_means list with 30 bins.\n",
    "\n",
    "Set the figure size to 10x5 inches.\n",
    "\n",
    "Add a title to the plot: \"Sampling Distribution of the Mean (Sample Size = 50)\".\n",
    "\n",
    "Label the x-axis as \"Sample Mean\" and the y-axis as \"Frequency\".\n",
    "\n",
    "Rotate the x-axis tick labels by 45 degrees for better readability.\n",
    "\n",
    "Display the plot using plt.show()."
   ]
  },
  {
   "cell_type": "code",
   "execution_count": null,
   "id": "3ef432e4",
   "metadata": {},
   "outputs": [],
   "source": [
    "\n",
    "# Task 2\n",
    "# Think of our coffee_quality data as a population to draw from\n",
    "population = coffee_quality['aroma'].dropna().values\n",
    "\n",
    "# <your code goes here>\n",
    "# Parameters\n",
    "sample_size = 50\n",
    "num_samples = 1000\n",
    "\n",
    "# Set random seed\n",
    "np.random.seed(2024)\n",
    "\n",
    "# Simulate sampling distribution of the mean\n",
    "sample_means = []\n",
    "for _ in range(num_samples):\n",
    "    sample = np.random.choice(population, sample_size)\n",
    "    sample_means.append(np.mean(sample))\n",
    "\n",
    "# Plot the sampling distribution of the sample means\n",
    "plt.figure(figsize=(10, 5))\n",
    "plt.hist(sample_means, bins=30, edgecolor='k', alpha=0.7)\n",
    "plt.title('Sampling Distribution of the Mean (Sample Size = 50)')\n",
    "plt.xlabel('Sample Mean')\n",
    "plt.ylabel('Frequency')\n",
    "plt.xticks(rotation=45)\n",
    "plt.show()\n",
    "\n",
    "\n"
   ]
  },
  {
   "cell_type": "markdown",
   "id": "d29e17d9",
   "metadata": {},
   "source": [
    "\n",
    "## Task 3: Hypothesis Testing\n",
    "\n",
    "Hypothesis testing is a fundamental concept in statistics that allows researchers to make conclusions based on sample data. It begins with formulating a null hypothesis, which states that there is no effect or difference. The alternative hypothesis suggests otherwise. By determining a significance level, researchers can assess whether to reject the null hypothesis based on the evidence provided by the sample data.\n",
    "\n",
    "Null Hypothesis (H₀): The population mean flavor score is equal to 7.8.\n",
    "\n",
    "Alternative Hypothesis (H₁): The population mean flavor score is less than 7.8."
   ]
  },
  {
   "cell_type": "markdown",
   "id": "cda88f4d",
   "metadata": {},
   "source": [
    "Note: The flavor column in the coffee_quality dataset represents the flavor quality score of the coffee samples. This score evaluates the taste characteristics of the coffee, including its richness, balance, and complexity. The scores are typically given by coffee experts or through sensory evaluation processes and can range on a scale (from 0 to 10), where higher scores indicate better flavor quality."
   ]
  },
  {
   "cell_type": "code",
   "execution_count": null,
   "id": "204a28b5",
   "metadata": {},
   "outputs": [],
   "source": [
    "coffee_quality['flavor']"
   ]
  },
  {
   "cell_type": "markdown",
   "id": "368bbbda",
   "metadata": {},
   "source": [
    "1. Define Hypothesized Mean:\n",
    "\n",
    "Set the hypothesized population mean for the flavor column to 7.8 and store it in the variable flavor_mean.\n",
    "\n",
    "2. Perform One-Sample t-Test:\n",
    "\n",
    "Use the ttest_1samp function from the scipy.stats module to perform a one-sample t-test.\n",
    "\n",
    "The test will compare the sample mean of the flavor column in the coffee_quality DataFrame to the hypothesized mean (7.8).\n",
    "\n",
    "Drop any missing values from the flavor column using .dropna().\n",
    "\n",
    "Set the alternative parameter to 'less' to test the alternative hypothesis that the population mean is less than the hypothesized mean.\n",
    "\n",
    "3. Store Test Results:\n",
    "\n",
    "Store the t-statistic and p-value returned by the ttest_1samp function in the variables t_stat and p_value, respectively.\n",
    "\n",
    "4. Print Results:\n",
    "\n",
    "Print the t-statistic and p-value using formatted strings.\n",
    "\n",
    "Expected output:\n",
    "\n",
    "T-statistic: -2.8437004395767462\n",
    "\n",
    "P-value: 0.0024543417348696964"
   ]
  },
  {
   "cell_type": "code",
   "execution_count": null,
   "id": "8a6d4d9c",
   "metadata": {},
   "outputs": [],
   "source": [
    "\n",
    "# Task 3\n",
    "# One-sample t-test checking for evidence that mu flavor < 7.8\n",
    "#<your code goes here>\n",
    "\n",
    "flavor_mean = 7.8\n",
    "t_stat, p_value = stats.ttest_1samp(\n",
    "  coffee_quality['flavor'].dropna(), \n",
    "  flavor_mean,\n",
    "  alternative='less')\n",
    "\n",
    "print(f\"T-statistic: {t_stat}\")\n",
    "print(f\"P-value: {p_value}\")\n"
   ]
  },
  {
   "cell_type": "markdown",
   "id": "51a8d25e",
   "metadata": {},
   "source": [
    "Analysis:\n",
    "The T-statistic being negative suggests that the sample mean is less than the hypothesized mean.\n",
    "\n",
    "The P-value (0.0025) is much smaller than the common significance level (e.g., 0.05), indicating that the observed difference is highly unlikely to have occurred by chance.\n",
    "\n",
    "Conclusion:\n",
    "\n",
    "Since the p-value is significantly less than 0.05, we reject the null hypothesis. This suggests strong evidence that the population mean flavor score is less than 7.8."
   ]
  }
 ],
 "metadata": {
  "kernelspec": {
   "display_name": "base",
   "language": "python",
   "name": "python3"
  },
  "language_info": {
   "codemirror_mode": {
    "name": "ipython",
    "version": 3
   },
   "file_extension": ".py",
   "mimetype": "text/x-python",
   "name": "python",
   "nbconvert_exporter": "python",
   "pygments_lexer": "ipython3",
   "version": "3.11.7"
  }
 },
 "nbformat": 4,
 "nbformat_minor": 5
}
